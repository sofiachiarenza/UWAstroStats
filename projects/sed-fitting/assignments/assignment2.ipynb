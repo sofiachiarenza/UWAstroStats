{
 "cells": [
  {
   "cell_type": "markdown",
   "id": "c4f9a492",
   "metadata": {},
   "source": [
    "# Assignment 2\n",
    "\n",
    "## Machine Learning Techniques\n",
    "\n",
    "This assignment is split into 3 sections, roughly corresponding to the contents of each of the 3 weeks in the Machine Learning module. \n",
    "\n",
    "All assignments are presented as Jupyter notebooks. You will fork the repository to have your own access to all files. You can edit this notebook directly with your answers and push your changes to GitHub. \n",
    "\n",
    "### **The goal of this assignment is to use different ML techniques to explore your data, find patterns in it, and eventually build a model that will allow us to predict stellar mass & redshift of galaxies *without doing SED fitting*.**"
   ]
  },
  {
   "cell_type": "markdown",
   "id": "63d203e3-ac34-405c-bac5-79d3eb65d3c1",
   "metadata": {},
   "source": [
    "# Section 0: Data Preprocessing\n",
    "\n",
    "Before we delve into machine learning, it's a good idea to look at our data, pick which sample we want to work with, etc.\n",
    "\n",
    "The code below loads in the input data catalog:"
   ]
  },
  {
   "cell_type": "code",
   "execution_count": 4,
   "id": "f6834f15-4176-4615-b46c-888fb8f53283",
   "metadata": {},
   "outputs": [
    {
     "data": {
      "text/html": [
       "<div>\n",
       "<style scoped>\n",
       "    .dataframe tbody tr th:only-of-type {\n",
       "        vertical-align: middle;\n",
       "    }\n",
       "\n",
       "    .dataframe tbody tr th {\n",
       "        vertical-align: top;\n",
       "    }\n",
       "\n",
       "    .dataframe thead th {\n",
       "        text-align: right;\n",
       "    }\n",
       "</style>\n",
       "<table border=\"1\" class=\"dataframe\">\n",
       "  <thead>\n",
       "    <tr style=\"text-align: right;\">\n",
       "      <th></th>\n",
       "      <th>id</th>\n",
       "      <th>ra</th>\n",
       "      <th>dec</th>\n",
       "      <th>redshift</th>\n",
       "      <th>PLATE</th>\n",
       "      <th>MJD</th>\n",
       "      <th>FIBERID</th>\n",
       "      <th>designation</th>\n",
       "      <th>flux0_u</th>\n",
       "      <th>flux0_u_e</th>\n",
       "      <th>...</th>\n",
       "      <th>flux_w2_e</th>\n",
       "      <th>flux_w3</th>\n",
       "      <th>flux_w3_e</th>\n",
       "      <th>flux_w4</th>\n",
       "      <th>flux_w4_e</th>\n",
       "      <th>extin_u</th>\n",
       "      <th>extin_g</th>\n",
       "      <th>extin_r</th>\n",
       "      <th>extin_i</th>\n",
       "      <th>extin_z</th>\n",
       "    </tr>\n",
       "  </thead>\n",
       "  <tbody>\n",
       "    <tr>\n",
       "      <th>0</th>\n",
       "      <td>3</td>\n",
       "      <td>337.450310</td>\n",
       "      <td>1.266134</td>\n",
       "      <td>0.088372</td>\n",
       "      <td>376</td>\n",
       "      <td>52143</td>\n",
       "      <td>404</td>\n",
       "      <td>J222948.07+011558.1</td>\n",
       "      <td>0.000031</td>\n",
       "      <td>0.000003</td>\n",
       "      <td>...</td>\n",
       "      <td>0.000049</td>\n",
       "      <td>4.172000e-07</td>\n",
       "      <td>0.000209</td>\n",
       "      <td>0.000002</td>\n",
       "      <td>0.001187</td>\n",
       "      <td>0.341327</td>\n",
       "      <td>0.265960</td>\n",
       "      <td>0.183990</td>\n",
       "      <td>0.136724</td>\n",
       "      <td>0.101698</td>\n",
       "    </tr>\n",
       "    <tr>\n",
       "      <th>1</th>\n",
       "      <td>5</td>\n",
       "      <td>338.115522</td>\n",
       "      <td>1.270146</td>\n",
       "      <td>0.163800</td>\n",
       "      <td>376</td>\n",
       "      <td>52143</td>\n",
       "      <td>567</td>\n",
       "      <td>J223227.69+011612.6</td>\n",
       "      <td>0.000011</td>\n",
       "      <td>0.000004</td>\n",
       "      <td>...</td>\n",
       "      <td>0.000111</td>\n",
       "      <td>9.851000e-07</td>\n",
       "      <td>0.000493</td>\n",
       "      <td>0.000004</td>\n",
       "      <td>0.001883</td>\n",
       "      <td>0.368063</td>\n",
       "      <td>0.286793</td>\n",
       "      <td>0.198402</td>\n",
       "      <td>0.147434</td>\n",
       "      <td>0.109664</td>\n",
       "    </tr>\n",
       "    <tr>\n",
       "      <th>2</th>\n",
       "      <td>8</td>\n",
       "      <td>341.101481</td>\n",
       "      <td>1.266255</td>\n",
       "      <td>0.143369</td>\n",
       "      <td>378</td>\n",
       "      <td>52146</td>\n",
       "      <td>404</td>\n",
       "      <td>J224424.38+011558.3</td>\n",
       "      <td>0.000017</td>\n",
       "      <td>0.000003</td>\n",
       "      <td>...</td>\n",
       "      <td>0.000039</td>\n",
       "      <td>1.013700e-06</td>\n",
       "      <td>0.000507</td>\n",
       "      <td>0.000008</td>\n",
       "      <td>0.003856</td>\n",
       "      <td>0.337630</td>\n",
       "      <td>0.263079</td>\n",
       "      <td>0.181997</td>\n",
       "      <td>0.135243</td>\n",
       "      <td>0.100596</td>\n",
       "    </tr>\n",
       "  </tbody>\n",
       "</table>\n",
       "<p>3 rows × 49 columns</p>\n",
       "</div>"
      ],
      "text/plain": [
       "   id          ra       dec  redshift  PLATE    MJD  FIBERID  \\\n",
       "0   3  337.450310  1.266134  0.088372    376  52143      404   \n",
       "1   5  338.115522  1.270146  0.163800    376  52143      567   \n",
       "2   8  341.101481  1.266255  0.143369    378  52146      404   \n",
       "\n",
       "           designation   flux0_u  flux0_u_e  ...  flux_w2_e       flux_w3  \\\n",
       "0  J222948.07+011558.1  0.000031   0.000003  ...   0.000049  4.172000e-07   \n",
       "1  J223227.69+011612.6  0.000011   0.000004  ...   0.000111  9.851000e-07   \n",
       "2  J224424.38+011558.3  0.000017   0.000003  ...   0.000039  1.013700e-06   \n",
       "\n",
       "   flux_w3_e   flux_w4  flux_w4_e   extin_u   extin_g   extin_r   extin_i  \\\n",
       "0   0.000209  0.000002   0.001187  0.341327  0.265960  0.183990  0.136724   \n",
       "1   0.000493  0.000004   0.001883  0.368063  0.286793  0.198402  0.147434   \n",
       "2   0.000507  0.000008   0.003856  0.337630  0.263079  0.181997  0.135243   \n",
       "\n",
       "    extin_z  \n",
       "0  0.101698  \n",
       "1  0.109664  \n",
       "2  0.100596  \n",
       "\n",
       "[3 rows x 49 columns]"
      ]
     },
     "execution_count": 4,
     "metadata": {},
     "output_type": "execute_result"
    }
   ],
   "source": [
    "from astropy.table import Table\n",
    "from astropy.io import fits\n",
    "with fits.open('../data/sw_input.fits') as f:\n",
    "    df = Table(f[1].data).to_pandas()\n",
    "    f.close()\n",
    "    \n",
    "# Display the top 3 rows of the dataframe\n",
    "df.head(3)"
   ]
  },
  {
   "cell_type": "markdown",
   "id": "87e1177d-ca39-4590-8631-61addbb91600",
   "metadata": {},
   "source": [
    "#### Question 1\n",
    "\n",
    "Look at all the column names. Choose which columns have *meaningful* data, i.e. have data we want to use in our machine learning to predict stellar mass and/or redshift. Why did you choose these ones?"
   ]
  },
  {
   "cell_type": "code",
   "execution_count": null,
   "id": "7ddb59b1",
   "metadata": {},
   "outputs": [],
   "source": [
    "# Placeholder"
   ]
  },
  {
   "cell_type": "markdown",
   "id": "ae0110f1-a5e7-485e-8acb-a07f5ccc4e01",
   "metadata": {},
   "source": [
    "#### Question 2\n",
    "\n",
    "Choose a reasonably-sized subset of your data ($10^3 \\sim 10^4$ or so galaxies)<br>\n",
    "Make sure to save your subset, or at least the IDs you chose, for later - you will need them!"
   ]
  },
  {
   "cell_type": "code",
   "execution_count": null,
   "id": "56acae31-6bc6-447a-8ee0-4854d8c75a48",
   "metadata": {},
   "outputs": [],
   "source": [
    "# Placeholder"
   ]
  },
  {
   "cell_type": "markdown",
   "id": "503d3932-97d8-49e3-ac8a-c91e3e299f42",
   "metadata": {},
   "source": [
    "#### Question 3\n",
    "\n",
    "It is often useful (and sometimes required) to *normalize* your data, i.e. for each parameter, subtract the mean of that parameter from each point in the sample, and divide by the standard deviation. For example, for mass, for each galaxy $i$, you can calculate\n",
    "\n",
    "$$ M_{norm, i} = \\frac{M_i - \\langle M \\rangle}{\\sigma_M}$$\n",
    "\n",
    "There are other ways to pre-process data (e.g., normalize by quantiles, or redefine variables such that they match some distribution).\n",
    "\n",
    "* For each column you chose, normalize the data in your sample in some way.\n",
    "* For one parameter, make a histogram of the original data, and the data after normalization. Do the histograms look as you expected them to?"
   ]
  },
  {
   "cell_type": "code",
   "execution_count": null,
   "id": "451ace38",
   "metadata": {},
   "outputs": [],
   "source": [
    "# Placeholder"
   ]
  },
  {
   "cell_type": "markdown",
   "id": "d29cfd0a",
   "metadata": {},
   "source": [
    "# Section 1: Data Compression\n",
    "\n",
    "#### Question 1\n",
    "\n",
    "What is a dimensionality reduction technique? Why would you use one?"
   ]
  },
  {
   "cell_type": "markdown",
   "id": "e9211b19-60b6-47d1-9fc9-8d09e53e12d3",
   "metadata": {},
   "source": [
    "#### Question 2\n",
    "\n",
    "There are many different data compression techniques: PCA, UMAP, tSNE, VAE... Pick two of these methods, and explain briefly: \n",
    "* How do each one of them work?\n",
    "* What are advantages or disadvantages of each method?\n",
    "* When would you use one over the other?"
   ]
  },
  {
   "cell_type": "markdown",
   "id": "bd807bba-e772-4899-9c33-995d609bddae",
   "metadata": {},
   "source": [
    "#### Question 3\n",
    "\n",
    "Pick one of the dimensionality reduction method\n",
    "\n",
    "> Most already have easy-to-use implementations so you don't have to code them from scratch: [PCA](https://scikit-learn.org/stable/modules/generated/sklearn.decomposition.PCA.html), [UMAP](https://umap-learn.readthedocs.io/en/latest/index.html), [tSNR](https://scikit-learn.org/stable/modules/generated/sklearn.manifold.TSNE.html). Training something like a Variational Autoencoder is a more involved task and requires access to a GPU.\n",
    "\n",
    "Do the following:    \n",
    "1. Reduce your data to 2 dimensions using your chosen algorithm\n",
    "2. Save your output\n",
    "    > Remember to keep the IDs with the principal components, so that you can easily see which galaxy those values are for later\n",
    "3. Plot the two principal variables against each other and describe what you see\n",
    "    * Are there any obvious patterns in your data?\n",
    "    * Are there any clusters?!"
   ]
  },
  {
   "cell_type": "code",
   "execution_count": null,
   "id": "fa648a98-f1bb-43a2-a924-e8fdc12c5c42",
   "metadata": {},
   "outputs": [],
   "source": [
    "# placeholder"
   ]
  },
  {
   "cell_type": "markdown",
   "id": "3bbc20a8-19c8-4750-a66d-060618e0a6fb",
   "metadata": {},
   "source": [
    "#### Question 4\n",
    "\n",
    "Now, load in the `sw_output.fits` table and cross-match the two tables to get stellar masses, redshifts, dust opacities, etc.\n",
    "\n",
    "7. Color the points on your plot above by a physical property and discuss if you see any patterns."
   ]
  },
  {
   "cell_type": "code",
   "execution_count": null,
   "id": "286b7e91-f714-45d0-bcc9-9942c305c624",
   "metadata": {},
   "outputs": [],
   "source": [
    "# placeholder"
   ]
  },
  {
   "cell_type": "markdown",
   "id": "22784c20-8852-4646-aae2-3eeada20da46",
   "metadata": {},
   "source": [
    "#### Question 5 [bonus]\n",
    "\n",
    "If you are feeling brave, you can try several encoding tools - how do your results change? What if you keep more than 2 principal variables? Does changing *hyperparameters* of your algorithm change your results quantitatively / qualitatively?\n"
   ]
  },
  {
   "cell_type": "markdown",
   "id": "68c435a6",
   "metadata": {},
   "source": [
    "# Section 2: Unsupervised ML\n",
    "\n",
    "In section, you will implement a clustering algorithm to see if there are any *natural* clusters in your data. You can choose any algorithm from the ones shown [on the Scikit-Learn website](https://scikit-learn.org/stable/modules/clustering.html). The best algorithm depends on your data: so refer back to the plots you made in Section 1 to see which algorithm you think will work best. \n",
    "\n",
    "Load in the subset you chose in the previous section. "
   ]
  },
  {
   "cell_type": "code",
   "execution_count": 3,
   "id": "dcc9e7c1-4841-434a-9303-adaa230ac009",
   "metadata": {},
   "outputs": [],
   "source": [
    "# Space for code"
   ]
  },
  {
   "cell_type": "markdown",
   "id": "816f0130-91fa-48cd-99b3-70362f088760",
   "metadata": {},
   "source": [
    "#### Question 1\n",
    "\n",
    "Choose a clustering algorithm. Why did you go for this particular one?"
   ]
  },
  {
   "cell_type": "markdown",
   "id": "5044dc03-00c0-4b88-abe7-dc8cb19a5935",
   "metadata": {},
   "source": [
    "#### Question 2\n",
    "\n",
    "Run clustering on your **compressed data**. Think of these questions, if they are relevant to your algorithm - often the *hyperparameters* of your algorithm will need you to answer these.\n",
    "\n",
    "* How many clusters should you fit to your data?\n",
    "* Where should the initial guesses for the cluster centers be?\n",
    "* What should be the typical size for each cluster?\n"
   ]
  },
  {
   "cell_type": "code",
   "execution_count": null,
   "id": "a0a32af0-7ad7-403f-815a-6997ee774501",
   "metadata": {},
   "outputs": [],
   "source": [
    "# Placeholder"
   ]
  },
  {
   "cell_type": "markdown",
   "id": "b4e15c8f-d610-4e96-a122-4aeb63f82c5f",
   "metadata": {},
   "source": [
    "#### Question 3\n",
    "\n",
    "Plot your compressed data, coloring the points by which cluster they belong it.\n",
    "Optionally, you can also overplot the boundaries of your cluster (see the example [here](https://scikit-learn.org/stable/auto_examples/cluster/plot_kmeans_digits.html#visualize-the-results-on-pca-reduced-data)).\n",
    "\n",
    "* Do the clusters make sense?\n",
    "* Do you think you chose the right number of clusters?\n",
    "\n",
    "You can use this visualization to tune the hyper-parameters of your clustering algorithm to perhaps get a cleaner result."
   ]
  },
  {
   "cell_type": "code",
   "execution_count": null,
   "id": "38f133d2-bc1a-45a3-b70f-e35f11fc0d96",
   "metadata": {},
   "outputs": [],
   "source": [
    "# Placeholder"
   ]
  },
  {
   "cell_type": "markdown",
   "id": "694a9382-c33b-4ea3-876f-00e2089e544c",
   "metadata": {},
   "source": [
    "#### Question 4\n",
    "\n",
    "Look at the distribution of *physical properties* (mass, redshift, dust...) from the output catalog for each one of your clusters. Are there any statistically significant differences between the clusters in any of these properties?"
   ]
  },
  {
   "cell_type": "code",
   "execution_count": null,
   "id": "cd834ad5-29f7-4cec-be33-e8ccd3700979",
   "metadata": {},
   "outputs": [],
   "source": [
    "# Placeholder"
   ]
  },
  {
   "cell_type": "markdown",
   "id": "95c1b6fa-ba74-4185-8aa2-827652aa7c71",
   "metadata": {},
   "source": [
    "#### Question 5\n",
    "\n",
    "Repeat **questions 2 and 4** but using your full dataset instead of the compressed one. \n",
    "* Do you see any differences in your results?\n",
    "* Did you need to choose different hyperparameters?\n"
   ]
  },
  {
   "cell_type": "markdown",
   "id": "237b7702",
   "metadata": {},
   "source": [
    "# Section 3: Supervised ML\n",
    "\n",
    "Finally, we can use *supervised ML* to train an algorithm that predicts our relevant physical parameters (mass, redshift, etc.) from the input data directly. This is a regression task, since we want to predict a continuous variable.\n",
    "\n",
    "You should aim to **predict mass and redshift** of galaxies, but you can also try to predict more properties available in the output catalog.\n",
    "\n",
    "#### Question 1\n",
    "\n",
    "Choose a regression tool (e.g., a linear model, SVM, neural network, gaussian process, decision tree... see [more examples here](https://scikit-learn.org/stable/supervised_learning.html#supervised-learning)).\n",
    "\n",
    "Why did you choose this particular one? \n",
    "\n",
    "* You can either train N different models for mass, redshift, etc.; or you can train a single model that predicts N parameters simultaneously.\n",
    "* Think: how many variables do you want to predict, what does your data look like, what relationship do you see by eye between your input and output data...\n",
    "\n"
   ]
  },
  {
   "cell_type": "markdown",
   "id": "bef08468-9a48-4dd6-85a1-b7717df78348",
   "metadata": {},
   "source": [
    "#### Question 2\n",
    "\n",
    "Split your data into two sub-samples: one for training and one for validation\n",
    "\n",
    "Use the tool you chose to predict the physical parameters from the input *training* data.\n",
    "\n",
    "* Optimize the parameters of the model\n",
    "* What is the correlation between predicted mass/redshift/other parameters, or the errors in the predictions?\n"
   ]
  },
  {
   "cell_type": "code",
   "execution_count": null,
   "id": "eb9e6f43-4f27-4f4c-98a9-64ba57b55a30",
   "metadata": {},
   "outputs": [],
   "source": [
    "# Placeholder"
   ]
  },
  {
   "cell_type": "markdown",
   "id": "97e2482c-2022-426b-a5b5-94ff203bb290",
   "metadata": {},
   "source": [
    "#### Question 3\n",
    "\n",
    "Use your model to predict the physical parameters of your validation sample\n",
    "\n",
    "* What is the accuracy? Is the model performing as well as you expected?"
   ]
  },
  {
   "cell_type": "code",
   "execution_count": null,
   "id": "278333c3-071d-422d-a8a7-8623b13bfbd9",
   "metadata": {},
   "outputs": [],
   "source": [
    "# Placeholder"
   ]
  },
  {
   "cell_type": "markdown",
   "id": "8d605637-36d1-4796-aa43-8313467651f3",
   "metadata": {},
   "source": [
    "#### Question 4\n",
    "\n",
    "Load in `test_sample.csv` and use your model to predict physical parameters.\n",
    "\n",
    "* What is the accuracy? Is the model performing as well as you expected?\n",
    "* Why do you think the performance is what it is?"
   ]
  },
  {
   "cell_type": "code",
   "execution_count": null,
   "id": "17d4be6e-76cd-490f-ae94-ee71cd9e17ed",
   "metadata": {},
   "outputs": [],
   "source": [
    "# Placeholder"
   ]
  },
  {
   "cell_type": "markdown",
   "id": "5b5daeac-69d9-4867-af7b-57388c037929",
   "metadata": {},
   "source": [
    "#### Question 5 [bonus]\n",
    "\n",
    "Repeat steps 1-4 for the *compressed* dataset. Do you see any differences in performance?"
   ]
  },
  {
   "cell_type": "code",
   "execution_count": null,
   "id": "21c1d8ec-a05a-4e97-aefd-58ab4cb2c6d1",
   "metadata": {},
   "outputs": [],
   "source": [
    "# Placeholder"
   ]
  },
  {
   "cell_type": "markdown",
   "id": "8eb9a2a0-d580-4784-883f-8547f9dc0bcd",
   "metadata": {},
   "source": [
    "#### Question 6 [bonus]\n",
    "\n",
    "Think back to the results you got from clustering. Does the model work equally well for galaxies in the different clusters?"
   ]
  },
  {
   "cell_type": "code",
   "execution_count": 5,
   "id": "64ea44e8-5c81-4b32-8366-562837d993ed",
   "metadata": {},
   "outputs": [],
   "source": [
    "# Placeholder"
   ]
  }
 ],
 "metadata": {
  "kernelspec": {
   "display_name": "Python 3 (ipykernel)",
   "language": "python",
   "name": "python3"
  },
  "language_info": {
   "codemirror_mode": {
    "name": "ipython",
    "version": 3
   },
   "file_extension": ".py",
   "mimetype": "text/x-python",
   "name": "python",
   "nbconvert_exporter": "python",
   "pygments_lexer": "ipython3",
   "version": "3.10.0"
  }
 },
 "nbformat": 4,
 "nbformat_minor": 5
}
